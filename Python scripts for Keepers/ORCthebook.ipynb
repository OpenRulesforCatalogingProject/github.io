{
 "cells": [
  {
   "cell_type": "code",
   "execution_count": 15,
   "metadata": {},
   "outputs": [],
   "source": [
    "import pypandoc\n",
    "import os\n",
    "import docx\n",
    "from docxcompose.composer import Composer"
   ]
  },
  {
   "cell_type": "code",
   "execution_count": 16,
   "metadata": {},
   "outputs": [
    {
     "data": {
      "text/plain": [
       "'C:\\\\Users\\\\kkdavis\\\\Desktop\\\\ORC-main\\\\_pages\\\\test'"
      ]
     },
     "execution_count": 16,
     "metadata": {},
     "output_type": "execute_result"
    }
   ],
   "source": [
    "pwd"
   ]
  },
  {
   "cell_type": "code",
   "execution_count": 17,
   "metadata": {},
   "outputs": [
    {
     "name": "stdout",
     "output_type": "stream",
     "text": [
      "C:\\Users\\kkdavis\\Desktop\\ORC-main\\_pages\\test\n"
     ]
    }
   ],
   "source": [
    "directory = 'C:\\\\Users\\\\kkdavis\\\\Desktop\\\\ORC-main\\\\_pages\\\\test'\n",
    "print(directory)"
   ]
  },
  {
   "cell_type": "code",
   "execution_count": 18,
   "metadata": {},
   "outputs": [
    {
     "name": "stdout",
     "output_type": "stream",
     "text": [
      "404.md\n",
      "Acknowledgments.md\n",
      "Additional-notes.md\n",
      "Appendices.md\n",
      "Background.md\n",
      "Content-Media-Carrier.md\n",
      "Edition.md\n",
      "Future-Work.md\n",
      "General-Rules.md\n",
      "Glossary-A.md\n",
      "Glossary-B.md\n",
      "Glossary-C.md\n",
      "Glossary-D.md\n",
      "Glossary-E.md\n",
      "Glossary-F.md\n",
      "Glossary-G.md\n",
      "Glossary-H.md\n",
      "Glossary-I.md\n",
      "Glossary-J.md\n",
      "Glossary-K.md\n",
      "Glossary-L.md\n",
      "Glossary-M.md\n",
      "Glossary-N.md\n",
      "Glossary-Num.md\n",
      "Glossary-O.md\n",
      "Glossary-P.md\n",
      "Glossary-Q.md\n",
      "Glossary-R.md\n",
      "Glossary-S.md\n",
      "Glossary-T.md\n",
      "Glossary-U.md\n",
      "Glossary-V.md\n",
      "Glossary-W.md\n",
      "Glossary-X.md\n",
      "Glossary-Y.md\n",
      "Glossary-Z.md\n",
      "Glossary.md\n",
      "Imprint.md\n",
      "Introduction.md\n",
      "Material-Description.md\n",
      "ORC.md\n",
      "preface.md\n",
      "Search.md\n",
      "Series.md\n",
      "Title.md\n"
     ]
    }
   ],
   "source": [
    "for file in os.listdir(directory):\n",
    "    if file.endswith(\".md\"):\n",
    "        output = pypandoc.convert_file(\n",
    "            file, \n",
    "            to='docx', \n",
    "            format='markdown_github',\n",
    "            outputfile= file +'.docx',\n",
    "            extra_args=['-V', '--title',\n",
    "                        '-V', 'Heading 1=Lora',\n",
    "                        '-V', 'Heading 2=Lora',\n",
    "                        '-V', '--gfm_auto_identifiers',\n",
    "                        '-V', '--native_numbering',\n",
    "                        '-V', '--yaml_metadata_block',\n",
    "                        '-V', '--toc-title']\n",
    "        )\n",
    "        print(file)\n",
    "    else:\n",
    "        continue\n"
   ]
  },
  {
   "cell_type": "code",
   "execution_count": 19,
   "metadata": {},
   "outputs": [],
   "source": [
    "from docx import Document\n",
    "\n",
    "files = ['ORC.md.docx','Introduction.md.docx','General-Rules.md.docx','Title.md.docx','Edition.md.docx','Imprint.md.docx','Material-Description.md.docx',\n",
    "    'Content-Media-Carrier.md.docx','Series.md.docx','Additional-notes.md.docx','Appendices.md.docx']\n",
    "composed = \"_composed.docx\"\n",
    "\n",
    "result = Document(files[0])\n",
    "result.add_page_break()\n",
    "composer = Composer(result)\n",
    "\n",
    "for i in range(1, len(files)):\n",
    "    doc = Document(files[i])\n",
    "\n",
    "    if i != len(files) - 1:\n",
    "        doc.add_page_break()\n",
    "\n",
    "    composer.append(doc)\n",
    "\n",
    "composer.save(composed)\n"
   ]
  },
  {
   "cell_type": "code",
   "execution_count": null,
   "metadata": {},
   "outputs": [],
   "source": []
  },
  {
   "cell_type": "code",
   "execution_count": null,
   "metadata": {},
   "outputs": [],
   "source": []
  }
 ],
 "metadata": {
  "kernelspec": {
   "display_name": "Python 3 (ipykernel)",
   "language": "python",
   "name": "python3"
  },
  "language_info": {
   "codemirror_mode": {
    "name": "ipython",
    "version": 3
   },
   "file_extension": ".py",
   "mimetype": "text/x-python",
   "name": "python",
   "nbconvert_exporter": "python",
   "pygments_lexer": "ipython3",
   "version": "3.9.12"
  }
 },
 "nbformat": 4,
 "nbformat_minor": 4
}
