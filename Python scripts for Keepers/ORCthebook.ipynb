{
 "cells": [
  {
   "cell_type": "code",
   "execution_count": 13,
   "metadata": {},
   "outputs": [],
   "source": [
    "import pypandoc\n",
    "import os\n",
    "import docx\n",
    "from docxcompose.composer import Composer"
   ]
  },
  {
   "cell_type": "code",
   "execution_count": 14,
   "metadata": {},
   "outputs": [
    {
     "data": {
      "text/plain": [
       "'/Users/denisesoufi/Desktop/ORC_markdown'"
      ]
     },
     "execution_count": 14,
     "metadata": {},
     "output_type": "execute_result"
    }
   ],
   "source": [
    "pwd"
   ]
  },
  {
   "cell_type": "code",
   "execution_count": 15,
   "metadata": {},
   "outputs": [
    {
     "name": "stdout",
     "output_type": "stream",
     "text": [
      "/Users/denisesoufi/Desktop/ORC_markdown\n"
     ]
    }
   ],
   "source": [
    "directory = '/Users/denisesoufi/Desktop/ORC_markdown'\n",
    "print(directory)"
   ]
  },
  {
   "cell_type": "code",
   "execution_count": 16,
   "metadata": {},
   "outputs": [
    {
     "name": "stdout",
     "output_type": "stream",
     "text": [
      "Principles.md\n",
      "Directors.md\n",
      "Reviewers.md\n",
      "scope.md\n",
      "Homepage.md\n",
      "vision.md\n",
      "Series.md\n",
      "about.md\n",
      "Core_Members.md\n"
     ]
    }
   ],
   "source": [
    "for file in os.listdir(directory):\n",
    "    if file.endswith(\".md\"):\n",
    "        output = pypandoc.convert_file(\n",
    "            file, \n",
    "            to='docx', \n",
    "            format='markdown_github',\n",
    "            outputfile= file +'.docx',\n",
    "            extra_args=['-V', '--title',\n",
    "                        '-V', 'Heading 1=Lora',\n",
    "                        '-V', 'Heading 2=Lora',\n",
    "                        '-V', '--gfm_auto_identifiers',\n",
    "                        '-V', '--native_numbering',\n",
    "                        '-V', '--yaml_metadata_block',\n",
    "                        '-V', '--toc-title']\n",
    "        )\n",
    "        print(file)\n",
    "    else:\n",
    "        continue\n"
   ]
  },
  {
   "cell_type": "code",
   "execution_count": 17,
   "metadata": {},
   "outputs": [],
   "source": [
    "from docx import Document\n",
    "\n",
    "files = ['Homepage.md.docx','about.md.docx','vision.md.docx','scope.md.docx','Principles.md.docx','Directors.md.docx','Core_Members.md.docx',\n",
    "    'Reviewers.md.docx','Series.md.docx']\n",
    "composed = \"_composed.docx\"\n",
    "\n",
    "result = Document(files[0])\n",
    "result.add_page_break()\n",
    "composer = Composer(result)\n",
    "\n",
    "for i in range(1, len(files)):\n",
    "    doc = Document(files[i])\n",
    "\n",
    "    if i != len(files) - 1:\n",
    "        doc.add_page_break()\n",
    "\n",
    "    composer.append(doc)\n",
    "\n",
    "composer.save(composed)\n"
   ]
  },
  {
   "cell_type": "code",
   "execution_count": null,
   "metadata": {},
   "outputs": [],
   "source": []
  },
  {
   "cell_type": "code",
   "execution_count": null,
   "metadata": {},
   "outputs": [],
   "source": []
  }
 ],
 "metadata": {
  "kernelspec": {
   "display_name": "Python 3 (ipykernel)",
   "language": "python",
   "name": "python3"
  },
  "language_info": {
   "codemirror_mode": {
    "name": "ipython",
    "version": 3
   },
   "file_extension": ".py",
   "mimetype": "text/x-python",
   "name": "python",
   "nbconvert_exporter": "python",
   "pygments_lexer": "ipython3",
   "version": "3.11.3"
  }
 },
 "nbformat": 4,
 "nbformat_minor": 4
}
